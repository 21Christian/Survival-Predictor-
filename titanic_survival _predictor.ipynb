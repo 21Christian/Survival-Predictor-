{
 "cells": [
  {
   "cell_type": "code",
   "execution_count": 11,
   "id": "2c83d8f6",
   "metadata": {},
   "outputs": [
    {
     "data": {
      "text/plain": [
       "0.7873134328358209"
      ]
     },
     "execution_count": 11,
     "metadata": {},
     "output_type": "execute_result"
    }
   ],
   "source": [
    "import pandas as pd\n",
    "from sklearn.preprocessing import LabelEncoder\n",
    "from sklearn.tree import DecisionTreeClassifier\n",
    "from sklearn.model_selection import train_test_split\n",
    "import math\n",
    "\n",
    "# loading the data\n",
    "df = pd.read_csv('C:\\\\Users\\\\User\\\\Desktop\\\\Datasets\\\\titanic.csv')\n",
    "\n",
    "# cleaning the data from noise and useless data \n",
    "data = df.drop(['Name', 'SibSp', 'Ticket', 'Parch', 'Cabin', 'Embarked', 'PassengerId'], axis = 'columns')\n",
    "median_age = math.floor(data.Age.median())\n",
    "data.Age = data.Age.fillna(median_age)\n",
    "\n",
    "#labeling the data \n",
    "le_gender = LabelEncoder()\n",
    "data['Sex_n'] = le_gender.fit_transform(data['Sex'])\n",
    "data = data.drop('Sex', axis = 'columns')\n",
    "\n",
    "# creating the input and the target data\n",
    "inputs = data.drop('Survived', axis='columns')\n",
    "target = df['Survived'] \n",
    "\n",
    "# builidng the model and training it\n",
    "model = DecisionTreeClassifier()\n",
    "X_train, X_test, y_train, y_test = train_test_split(inputs, target, test_size=0.3)\n",
    "model.fit(X_train.values, y_train)\n",
    "# testing the score\n",
    "model.score(X_test.values, y_test)"
   ]
  },
  {
   "cell_type": "code",
   "execution_count": null,
   "id": "af0b9653",
   "metadata": {},
   "outputs": [],
   "source": [
    "# makig predictions using inputs \n",
    "the_class = float(input('Class of the passenger: '))\n",
    "age = float(input('Age of the passenger: '))\n",
    "fare = float(input('Fare of the passenger: '))\n",
    "gender = float(input('Gender of the passenger (1 for male, 0 for female): '))\n",
    "\n",
    "prediction = model.predict([[the_class, age, fare, gender]])\n",
    "\n",
    "if prediction == 0:\n",
    "    print(\"The passenger would not survive\")\n",
    "else:\n",
    "    print(\"The passenger would survive\")"
   ]
  }
 ],
 "metadata": {
  "kernelspec": {
   "display_name": "Python 3 (ipykernel)",
   "language": "python",
   "name": "python3"
  },
  "language_info": {
   "codemirror_mode": {
    "name": "ipython",
    "version": 3
   },
   "file_extension": ".py",
   "mimetype": "text/x-python",
   "name": "python",
   "nbconvert_exporter": "python",
   "pygments_lexer": "ipython3",
   "version": "3.9.12"
  }
 },
 "nbformat": 4,
 "nbformat_minor": 5
}
